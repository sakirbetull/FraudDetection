{
 "cells": [
  {
   "cell_type": "code",
   "execution_count": 32,
   "id": "1355d0a4",
   "metadata": {},
   "outputs": [],
   "source": [
    "import pandas as pd\n",
    "import numpy as np"
   ]
  },
  {
   "cell_type": "code",
   "execution_count": 33,
   "id": "28274c24",
   "metadata": {},
   "outputs": [
    {
     "data": {
      "text/html": [
       "<div>\n",
       "<style scoped>\n",
       "    .dataframe tbody tr th:only-of-type {\n",
       "        vertical-align: middle;\n",
       "    }\n",
       "\n",
       "    .dataframe tbody tr th {\n",
       "        vertical-align: top;\n",
       "    }\n",
       "\n",
       "    .dataframe thead th {\n",
       "        text-align: right;\n",
       "    }\n",
       "</style>\n",
       "<table border=\"1\" class=\"dataframe\">\n",
       "  <thead>\n",
       "    <tr style=\"text-align: right;\">\n",
       "      <th></th>\n",
       "      <th>trans_date_trans_time</th>\n",
       "      <th>cc_num</th>\n",
       "      <th>merchant</th>\n",
       "      <th>category</th>\n",
       "      <th>amt</th>\n",
       "      <th>first</th>\n",
       "      <th>last</th>\n",
       "      <th>gender</th>\n",
       "      <th>street</th>\n",
       "      <th>city</th>\n",
       "      <th>...</th>\n",
       "      <th>job</th>\n",
       "      <th>dob</th>\n",
       "      <th>trans_num</th>\n",
       "      <th>unix_time</th>\n",
       "      <th>merch_lat</th>\n",
       "      <th>merch_long</th>\n",
       "      <th>is_fraud</th>\n",
       "      <th>merch_zipcode</th>\n",
       "      <th>hour</th>\n",
       "      <th>age</th>\n",
       "    </tr>\n",
       "  </thead>\n",
       "  <tbody>\n",
       "    <tr>\n",
       "      <th>0</th>\n",
       "      <td>2019-01-01 00:00:18</td>\n",
       "      <td>2703186189652095</td>\n",
       "      <td>fraud_Rippin, Kub and Mann</td>\n",
       "      <td>misc_net</td>\n",
       "      <td>4.97</td>\n",
       "      <td>Jennifer</td>\n",
       "      <td>Banks</td>\n",
       "      <td>F</td>\n",
       "      <td>561 Perry Cove</td>\n",
       "      <td>Moravian Falls</td>\n",
       "      <td>...</td>\n",
       "      <td>Psychologist, counselling</td>\n",
       "      <td>1988-03-09</td>\n",
       "      <td>0b242abb623afc578575680df30655b9</td>\n",
       "      <td>1325376018</td>\n",
       "      <td>36.011293</td>\n",
       "      <td>-82.048315</td>\n",
       "      <td>0</td>\n",
       "      <td>28705.0</td>\n",
       "      <td>0</td>\n",
       "      <td>32</td>\n",
       "    </tr>\n",
       "    <tr>\n",
       "      <th>1</th>\n",
       "      <td>2019-01-01 00:00:51</td>\n",
       "      <td>38859492057661</td>\n",
       "      <td>fraud_Lind-Buckridge</td>\n",
       "      <td>entertainment</td>\n",
       "      <td>220.11</td>\n",
       "      <td>Edward</td>\n",
       "      <td>Sanchez</td>\n",
       "      <td>M</td>\n",
       "      <td>594 White Dale Suite 530</td>\n",
       "      <td>Malad City</td>\n",
       "      <td>...</td>\n",
       "      <td>Nature conservation officer</td>\n",
       "      <td>1962-01-19</td>\n",
       "      <td>a1a22d70485983eac12b5b88dad1cf95</td>\n",
       "      <td>1325376051</td>\n",
       "      <td>43.150704</td>\n",
       "      <td>-112.154481</td>\n",
       "      <td>0</td>\n",
       "      <td>83236.0</td>\n",
       "      <td>0</td>\n",
       "      <td>58</td>\n",
       "    </tr>\n",
       "    <tr>\n",
       "      <th>2</th>\n",
       "      <td>2019-01-01 00:03:06</td>\n",
       "      <td>375534208663984</td>\n",
       "      <td>fraud_Keeling-Crist</td>\n",
       "      <td>misc_pos</td>\n",
       "      <td>41.96</td>\n",
       "      <td>Tyler</td>\n",
       "      <td>Garcia</td>\n",
       "      <td>M</td>\n",
       "      <td>408 Bradley Rest</td>\n",
       "      <td>Doe Hill</td>\n",
       "      <td>...</td>\n",
       "      <td>Dance movement psychotherapist</td>\n",
       "      <td>1986-03-28</td>\n",
       "      <td>a41d7549acf90789359a9aa5346dcb46</td>\n",
       "      <td>1325376186</td>\n",
       "      <td>38.674999</td>\n",
       "      <td>-78.632459</td>\n",
       "      <td>0</td>\n",
       "      <td>22844.0</td>\n",
       "      <td>0</td>\n",
       "      <td>34</td>\n",
       "    </tr>\n",
       "    <tr>\n",
       "      <th>3</th>\n",
       "      <td>2019-01-01 00:04:08</td>\n",
       "      <td>4767265376804500</td>\n",
       "      <td>fraud_Stroman, Hudson and Erdman</td>\n",
       "      <td>gas_transport</td>\n",
       "      <td>94.63</td>\n",
       "      <td>Jennifer</td>\n",
       "      <td>Conner</td>\n",
       "      <td>F</td>\n",
       "      <td>4655 David Island</td>\n",
       "      <td>Dublin</td>\n",
       "      <td>...</td>\n",
       "      <td>Transport planner</td>\n",
       "      <td>1961-06-19</td>\n",
       "      <td>189a841a0a8ba03058526bcfe566aab5</td>\n",
       "      <td>1325376248</td>\n",
       "      <td>40.653382</td>\n",
       "      <td>-76.152667</td>\n",
       "      <td>0</td>\n",
       "      <td>17972.0</td>\n",
       "      <td>0</td>\n",
       "      <td>59</td>\n",
       "    </tr>\n",
       "    <tr>\n",
       "      <th>4</th>\n",
       "      <td>2019-01-01 00:05:08</td>\n",
       "      <td>6011360759745864</td>\n",
       "      <td>fraud_Corwin-Collins</td>\n",
       "      <td>gas_transport</td>\n",
       "      <td>71.65</td>\n",
       "      <td>Steven</td>\n",
       "      <td>Williams</td>\n",
       "      <td>M</td>\n",
       "      <td>231 Flores Pass Suite 720</td>\n",
       "      <td>Edinburg</td>\n",
       "      <td>...</td>\n",
       "      <td>Designer, multimedia</td>\n",
       "      <td>1947-08-21</td>\n",
       "      <td>6d294ed2cc447d2c71c7171a3d54967c</td>\n",
       "      <td>1325376308</td>\n",
       "      <td>38.948089</td>\n",
       "      <td>-78.540296</td>\n",
       "      <td>0</td>\n",
       "      <td>22644.0</td>\n",
       "      <td>0</td>\n",
       "      <td>72</td>\n",
       "    </tr>\n",
       "  </tbody>\n",
       "</table>\n",
       "<p>5 rows × 25 columns</p>\n",
       "</div>"
      ],
      "text/plain": [
       "  trans_date_trans_time            cc_num                          merchant  \\\n",
       "0   2019-01-01 00:00:18  2703186189652095        fraud_Rippin, Kub and Mann   \n",
       "1   2019-01-01 00:00:51    38859492057661              fraud_Lind-Buckridge   \n",
       "2   2019-01-01 00:03:06   375534208663984               fraud_Keeling-Crist   \n",
       "3   2019-01-01 00:04:08  4767265376804500  fraud_Stroman, Hudson and Erdman   \n",
       "4   2019-01-01 00:05:08  6011360759745864              fraud_Corwin-Collins   \n",
       "\n",
       "        category     amt     first      last gender  \\\n",
       "0       misc_net    4.97  Jennifer     Banks      F   \n",
       "1  entertainment  220.11    Edward   Sanchez      M   \n",
       "2       misc_pos   41.96     Tyler    Garcia      M   \n",
       "3  gas_transport   94.63  Jennifer    Conner      F   \n",
       "4  gas_transport   71.65    Steven  Williams      M   \n",
       "\n",
       "                      street            city  ...  \\\n",
       "0             561 Perry Cove  Moravian Falls  ...   \n",
       "1   594 White Dale Suite 530      Malad City  ...   \n",
       "2           408 Bradley Rest        Doe Hill  ...   \n",
       "3          4655 David Island          Dublin  ...   \n",
       "4  231 Flores Pass Suite 720        Edinburg  ...   \n",
       "\n",
       "                              job         dob  \\\n",
       "0       Psychologist, counselling  1988-03-09   \n",
       "1     Nature conservation officer  1962-01-19   \n",
       "2  Dance movement psychotherapist  1986-03-28   \n",
       "3               Transport planner  1961-06-19   \n",
       "4            Designer, multimedia  1947-08-21   \n",
       "\n",
       "                          trans_num   unix_time  merch_lat  merch_long  \\\n",
       "0  0b242abb623afc578575680df30655b9  1325376018  36.011293  -82.048315   \n",
       "1  a1a22d70485983eac12b5b88dad1cf95  1325376051  43.150704 -112.154481   \n",
       "2  a41d7549acf90789359a9aa5346dcb46  1325376186  38.674999  -78.632459   \n",
       "3  189a841a0a8ba03058526bcfe566aab5  1325376248  40.653382  -76.152667   \n",
       "4  6d294ed2cc447d2c71c7171a3d54967c  1325376308  38.948089  -78.540296   \n",
       "\n",
       "  is_fraud merch_zipcode  hour  age  \n",
       "0        0       28705.0     0   32  \n",
       "1        0       83236.0     0   58  \n",
       "2        0       22844.0     0   34  \n",
       "3        0       17972.0     0   59  \n",
       "4        0       22644.0     0   72  \n",
       "\n",
       "[5 rows x 25 columns]"
      ]
     },
     "execution_count": 33,
     "metadata": {},
     "output_type": "execute_result"
    }
   ],
   "source": [
    "df = pd.read_csv(r'fraud_detection.csv')\n",
    "df.head()"
   ]
  },
  {
   "cell_type": "code",
   "execution_count": 34,
   "id": "9a295bcb",
   "metadata": {},
   "outputs": [
    {
     "data": {
      "text/plain": [
       "is_fraud\n",
       "0    1094339\n",
       "1       6363\n",
       "Name: count, dtype: int64"
      ]
     },
     "execution_count": 34,
     "metadata": {},
     "output_type": "execute_result"
    }
   ],
   "source": [
    "df['is_fraud'].value_counts()"
   ]
  },
  {
   "cell_type": "markdown",
   "id": "d71f0d72",
   "metadata": {},
   "source": [
    "Random Undersampling (Rastgele Azaltma) yöntemiyle is_fraud sınıflarını dengeler. Büyük sınıftan (is_fraud = 0) rastgele örnekler alarak küçük sınıfla (is_fraud = 1) eşit hale getirir:"
   ]
  },
  {
   "cell_type": "code",
   "execution_count": 35,
   "id": "ee5ef866",
   "metadata": {},
   "outputs": [
    {
     "data": {
      "text/plain": [
       "is_fraud\n",
       "0    6363\n",
       "1    6363\n",
       "Name: count, dtype: int64"
      ]
     },
     "execution_count": 35,
     "metadata": {},
     "output_type": "execute_result"
    }
   ],
   "source": [
    "# Sınıf 0 ve sınıf 1 verilerini ayır\n",
    "class_0 = df[df['is_fraud'] == 0].sample(n=6363, random_state=42)  # Küçük sınıfın sayısına eşit örnek al\n",
    "class_1 = df[df['is_fraud'] == 1]  # Küçük sınıfı olduğu gibi al\n",
    "\n",
    "# İki sınıfı birleştir\n",
    "df = pd.concat([class_0, class_1])\n",
    "\n",
    "# Veri setini karıştır\n",
    "df = df.sample(frac=1, random_state=42).reset_index(drop=True)\n",
    "\n",
    "df['is_fraud'].value_counts()"
   ]
  },
  {
   "cell_type": "code",
   "execution_count": 36,
   "id": "95778708",
   "metadata": {},
   "outputs": [
    {
     "name": "stdout",
     "output_type": "stream",
     "text": [
      "<class 'pandas.core.frame.DataFrame'>\n",
      "RangeIndex: 12726 entries, 0 to 12725\n",
      "Data columns (total 25 columns):\n",
      " #   Column                 Non-Null Count  Dtype  \n",
      "---  ------                 --------------  -----  \n",
      " 0   trans_date_trans_time  12726 non-null  object \n",
      " 1   cc_num                 12726 non-null  int64  \n",
      " 2   merchant               12726 non-null  object \n",
      " 3   category               12726 non-null  object \n",
      " 4   amt                    12726 non-null  float64\n",
      " 5   first                  12726 non-null  object \n",
      " 6   last                   12726 non-null  object \n",
      " 7   gender                 12726 non-null  object \n",
      " 8   street                 12726 non-null  object \n",
      " 9   city                   12726 non-null  object \n",
      " 10  state                  12726 non-null  object \n",
      " 11  zip                    12726 non-null  int64  \n",
      " 12  lat                    12726 non-null  float64\n",
      " 13  long                   12726 non-null  float64\n",
      " 14  city_pop               12726 non-null  int64  \n",
      " 15  job                    12726 non-null  object \n",
      " 16  dob                    12726 non-null  object \n",
      " 17  trans_num              12726 non-null  object \n",
      " 18  unix_time              12726 non-null  int64  \n",
      " 19  merch_lat              12726 non-null  float64\n",
      " 20  merch_long             12726 non-null  float64\n",
      " 21  is_fraud               12726 non-null  int64  \n",
      " 22  merch_zipcode          12726 non-null  float64\n",
      " 23  hour                   12726 non-null  int64  \n",
      " 24  age                    12726 non-null  int64  \n",
      "dtypes: float64(6), int64(7), object(12)\n",
      "memory usage: 2.4+ MB\n"
     ]
    }
   ],
   "source": [
    "df.info()"
   ]
  },
  {
   "cell_type": "code",
   "execution_count": 37,
   "id": "c7b56d62",
   "metadata": {},
   "outputs": [],
   "source": [
    "# drop unnecessary columns\n",
    "unnecessary_columns = ['trans_date_trans_time', 'cc_num', 'first', 'last', 'trans_num', 'dob']\n",
    "df.drop(unnecessary_columns, axis=1, inplace=True)"
   ]
  },
  {
   "cell_type": "markdown",
   "id": "ba70ec02",
   "metadata": {},
   "source": [
    "🧱 Kullanılmaması Gereken veya Dikkat Edilmesi Gereken Sütunlar\n",
    "\n",
    "* cc_num\tBenzersiz ama anonim kart numarası → yüksek kardinalite, işe yaramaz.\n",
    "* trans_num\tBenzersiz ID → model öğrenemez.\n",
    "* first, last, street\tÖznitelik olarak anlamlı değil, kişisel veri → çıkartılmalı.\n",
    "* dob, trans_date_trans_time\tDoğrudan kullanılmaz, ama yaş ve saat gibi türevler çıkarılabilir.\n",
    "* merchant, merch_zipcode, zip, state, city\tKodlanırsa anlam kazanabilir (örn. frequency encoding)."
   ]
  },
  {
   "cell_type": "code",
   "execution_count": 38,
   "id": "341df341",
   "metadata": {},
   "outputs": [
    {
     "name": "stdout",
     "output_type": "stream",
     "text": [
      "<class 'pandas.core.frame.DataFrame'>\n",
      "RangeIndex: 12726 entries, 0 to 12725\n",
      "Data columns (total 19 columns):\n",
      " #   Column         Non-Null Count  Dtype  \n",
      "---  ------         --------------  -----  \n",
      " 0   merchant       12726 non-null  object \n",
      " 1   category       12726 non-null  object \n",
      " 2   amt            12726 non-null  float64\n",
      " 3   gender         12726 non-null  object \n",
      " 4   street         12726 non-null  object \n",
      " 5   city           12726 non-null  object \n",
      " 6   state          12726 non-null  object \n",
      " 7   zip            12726 non-null  int64  \n",
      " 8   lat            12726 non-null  float64\n",
      " 9   long           12726 non-null  float64\n",
      " 10  city_pop       12726 non-null  int64  \n",
      " 11  job            12726 non-null  object \n",
      " 12  unix_time      12726 non-null  int64  \n",
      " 13  merch_lat      12726 non-null  float64\n",
      " 14  merch_long     12726 non-null  float64\n",
      " 15  is_fraud       12726 non-null  int64  \n",
      " 16  merch_zipcode  12726 non-null  float64\n",
      " 17  hour           12726 non-null  int64  \n",
      " 18  age            12726 non-null  int64  \n",
      "dtypes: float64(6), int64(6), object(7)\n",
      "memory usage: 1.8+ MB\n"
     ]
    }
   ],
   "source": [
    "df.info()"
   ]
  },
  {
   "cell_type": "markdown",
   "id": "07694cc8",
   "metadata": {},
   "source": [
    "# 🛠️ Feature Engineering\n"
   ]
  },
  {
   "cell_type": "code",
   "execution_count": 39,
   "id": "81af245b",
   "metadata": {},
   "outputs": [],
   "source": [
    "# is_high_amount (Yüksek Tutar):\n",
    "# İşlem tutarının belirli bir eşik değerin üzerinde olup olmadığını belirten bir özellik oluşturabilirsiniz."
   ]
  },
  {
   "cell_type": "code",
   "execution_count": 40,
   "id": "cf5dea98",
   "metadata": {},
   "outputs": [],
   "source": [
    "df['is_night_transaction'] = df['hour'].apply(lambda x: 1 if x >= 22 or x <= 6 else 0)\n"
   ]
  },
  {
   "cell_type": "markdown",
   "id": "7dcf8506",
   "metadata": {},
   "source": [
    "is_night_transaction (Gece İşlemi):\n",
    "\n",
    "İşlemin gece saatlerinde (örneğin, 22:00-06:00) yapılıp yapılmadığını belirten bir özellik oluşturabilirsiniz."
   ]
  },
  {
   "cell_type": "code",
   "execution_count": 41,
   "id": "880f3fa2",
   "metadata": {},
   "outputs": [],
   "source": [
    "df['transaction_speed'] = df['unix_time'].diff()"
   ]
  },
  {
   "cell_type": "markdown",
   "id": "1d6e7845",
   "metadata": {},
   "source": [
    "transaction_speed (İşlem Hızı):\n",
    "\n",
    "İşlemin yapıldığı zaman ile önceki işlem arasındaki süreyi hesaplayabilirsiniz. Çok hızlı yapılan işlemler dolandırıcılık göstergesi olabilir"
   ]
  },
  {
   "cell_type": "code",
   "execution_count": 42,
   "id": "4460e1b8",
   "metadata": {},
   "outputs": [],
   "source": [
    "from geopy.distance import geodesic\n",
    "df['distance_to_merchant'] = df.apply(lambda row: geodesic((row['lat'], row['long']), (row['merch_lat'], row['merch_long'])).km, axis=1)"
   ]
  },
  {
   "cell_type": "markdown",
   "id": "91f0c540",
   "metadata": {},
   "source": [
    "distance_to_merchant (Satıcıya Uzaklık):\n",
    "\n",
    "Kullanıcının adresi (lat, long) ile satıcının adresi (merch_lat, merch_long) arasındaki mesafeyi hesaplayabilirsiniz."
   ]
  },
  {
   "cell_type": "code",
   "execution_count": 43,
   "id": "afa94447",
   "metadata": {},
   "outputs": [],
   "source": [
    "df.drop(['lat', 'long', 'merch_lat', 'merch_long'], axis=1, inplace=True)"
   ]
  },
  {
   "cell_type": "code",
   "execution_count": 44,
   "id": "4319c1c5",
   "metadata": {},
   "outputs": [
    {
     "name": "stdout",
     "output_type": "stream",
     "text": [
      "<class 'pandas.core.frame.DataFrame'>\n",
      "RangeIndex: 12726 entries, 0 to 12725\n",
      "Data columns (total 18 columns):\n",
      " #   Column                Non-Null Count  Dtype  \n",
      "---  ------                --------------  -----  \n",
      " 0   merchant              12726 non-null  object \n",
      " 1   category              12726 non-null  object \n",
      " 2   amt                   12726 non-null  float64\n",
      " 3   gender                12726 non-null  object \n",
      " 4   street                12726 non-null  object \n",
      " 5   city                  12726 non-null  object \n",
      " 6   state                 12726 non-null  object \n",
      " 7   zip                   12726 non-null  int64  \n",
      " 8   city_pop              12726 non-null  int64  \n",
      " 9   job                   12726 non-null  object \n",
      " 10  unix_time             12726 non-null  int64  \n",
      " 11  is_fraud              12726 non-null  int64  \n",
      " 12  merch_zipcode         12726 non-null  float64\n",
      " 13  hour                  12726 non-null  int64  \n",
      " 14  age                   12726 non-null  int64  \n",
      " 15  is_night_transaction  12726 non-null  int64  \n",
      " 16  transaction_speed     12725 non-null  float64\n",
      " 17  distance_to_merchant  12726 non-null  float64\n",
      "dtypes: float64(4), int64(7), object(7)\n",
      "memory usage: 1.7+ MB\n"
     ]
    }
   ],
   "source": [
    "df.info()"
   ]
  },
  {
   "cell_type": "code",
   "execution_count": 45,
   "id": "81019209",
   "metadata": {},
   "outputs": [],
   "source": [
    "df.drop(['zip', 'merch_zipcode', 'unix_time', 'street', 'merchant'], axis=1, inplace=True)"
   ]
  },
  {
   "cell_type": "code",
   "execution_count": 46,
   "id": "6f4ea580",
   "metadata": {},
   "outputs": [],
   "source": [
    "df.to_csv(r'C:\\Users\\sakir\\OneDrive\\Masaüstü\\career\\akbank\\globalaihub2\\fraud_detection2.csv', index=False)"
   ]
  }
 ],
 "metadata": {
  "kernelspec": {
   "display_name": "Python 3",
   "language": "python",
   "name": "python3"
  },
  "language_info": {
   "codemirror_mode": {
    "name": "ipython",
    "version": 3
   },
   "file_extension": ".py",
   "mimetype": "text/x-python",
   "name": "python",
   "nbconvert_exporter": "python",
   "pygments_lexer": "ipython3",
   "version": "3.13.2"
  }
 },
 "nbformat": 4,
 "nbformat_minor": 5
}
